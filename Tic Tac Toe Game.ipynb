{
 "cells": [
  {
   "cell_type": "markdown",
   "metadata": {},
   "source": [
    "# Tic Tac Toe Game"
   ]
  },
  {
   "cell_type": "markdown",
   "metadata": {},
   "source": [
    "This function displays the board through a series of print statements, it pretty much just display the values of each dictionary key."
   ]
  },
  {
   "cell_type": "code",
   "execution_count": 53,
   "metadata": {},
   "outputs": [],
   "source": [
    "def display_board(board):\n",
    "    print(\" \")\n",
    "    print(board['7'] + \"|\" + board['8'] + \"|\" + board ['9'])\n",
    "    print(\"-+-+-\")\n",
    "    print(board['4'] + \"|\" + board['5'] + \"|\" + board ['6'])\n",
    "    print(\"-+-+-\")\n",
    "    print(board['3'] + \"|\" + board['2'] + \"|\" + board ['1'])\n",
    "    print(\" \")"
   ]
  },
  {
   "cell_type": "markdown",
   "metadata": {},
   "source": [
    "Function just to print welcome, it actually didn't need to be a function but I just did in case I want to add something to it and need to use it again or wanted to add something to the beginning."
   ]
  },
  {
   "cell_type": "code",
   "execution_count": 54,
   "metadata": {},
   "outputs": [],
   "source": [
    "def welcome():\n",
    "    print('Hi, this is my tic tac toe game!')\n",
    "    print(\" \")\n",
    "    print(\"Rules: \")\n",
    "    print(\"1- Player one = X\")\n",
    "    print(\"2- Player two = O\")\n",
    "    print(\"3- If any of the player complete a straight line they win.\")\n",
    "    print(\"4- If none of the players manage to do a straight line, it ends in a tie.\")\n",
    "    print(\"5- You can not choose the same spot twice.\")\n",
    "    print(\" \")\n",
    "    print(\"How to play: \")\n",
    "    print(\"To select where you want to place your marker, select the corresponding number.\")\n",
    "    print(\" \")\n",
    "    print(\"7     8     9\")\n",
    "    print(\"4     5     6\")\n",
    "    print(\"3     2     1\")\n",
    "    print(\" \")\n",
    "    print(\"For example, if you want to choose the top right, you have to type 9. And the board will look something like this: \")\n",
    "    print(\" \")\n",
    "    print(\" \" + \"|\" + \" \" + \"|\" + \"X\")\n",
    "    print(\"-+-+-\")\n",
    "    print(\" \" + \"|\" + \" \" + \"|\" + \" \")\n",
    "    print(\"-+-+-\")\n",
    "    print(\" \" + \"|\" + \" \" + \"|\" + \" \")\n",
    "    print(\" \")\n",
    "    print(\"Let's play!\")\n",
    "    \n",
    "    "
   ]
  },
  {
   "cell_type": "markdown",
   "metadata": {},
   "source": [
    "Same as welcome function."
   ]
  },
  {
   "cell_type": "code",
   "execution_count": 55,
   "metadata": {},
   "outputs": [],
   "source": [
    "def goodbye():\n",
    "    print(\"Thanks for playing!\")"
   ]
  },
  {
   "cell_type": "markdown",
   "metadata": {},
   "source": [
    "This function just prints whose turn is it so the player knows who needs to input the next choice."
   ]
  },
  {
   "cell_type": "code",
   "execution_count": 56,
   "metadata": {},
   "outputs": [],
   "source": [
    "def player_turn(player_one):\n",
    "    \n",
    "    if player_one == True:\n",
    "        print(\"Player 1: Your Turn.\")\n",
    "    else:\n",
    "        print(\"Player 2: Your Turn.\")"
   ]
  },
  {
   "cell_type": "markdown",
   "metadata": {},
   "source": [
    "This function gets the user input and validates it. It checks if the input is a digit and if it is between the range of 1 and 9. It also validates if the input was already chosen before (for example if player 2 chose the number one already you can't use it). The loop only stops if it is a digit, and is within range."
   ]
  },
  {
   "cell_type": "code",
   "execution_count": 57,
   "metadata": {},
   "outputs": [],
   "source": [
    "def player_choice(choice,occupied):\n",
    "    \n",
    "    within_range = False\n",
    "    \n",
    "    \n",
    "    while choice.isdigit() == False or within_range == False:\n",
    "        \n",
    "    \n",
    "        choice = input(\"Please enter a number (1,9): \")\n",
    "        \n",
    "        if choice.isdigit() == False:\n",
    "            print(\"Sorry that is not a digit!\")\n",
    "            \n",
    "        if choice.isdigit() == True:\n",
    "            \n",
    "            if is_occupied(choice,occupied) == True:\n",
    "                print(\"Sorry, it already exists in the game.\")\n",
    "                pass\n",
    "            \n",
    "            else:\n",
    "                \n",
    "                if int(choice) in range(1,10):\n",
    "                    within_range = True\n",
    "                    occupied.append(int(choice))\n",
    "                    \n",
    "                else:\n",
    "                    print(\"Sorry not in range.\")\n",
    "                    within_range = False\n",
    "        \n",
    "    \n",
    "    return choice"
   ]
  },
  {
   "cell_type": "markdown",
   "metadata": {},
   "source": [
    "Function that checks if slot is already occupied so the player can't overwrite other inputs."
   ]
  },
  {
   "cell_type": "code",
   "execution_count": 58,
   "metadata": {},
   "outputs": [],
   "source": [
    "def is_occupied(choice,occupied_set):\n",
    "    \n",
    "        if choice not in occupied_set:\n",
    "            return False\n",
    "        else:\n",
    "            return True"
   ]
  },
  {
   "cell_type": "markdown",
   "metadata": {},
   "source": [
    "Function that updates the board accordingly to whose turn is it."
   ]
  },
  {
   "cell_type": "code",
   "execution_count": 59,
   "metadata": {},
   "outputs": [],
   "source": [
    "def update_board(choice,player_one,player_two,board):\n",
    "    \n",
    "    if player_one == True:\n",
    "        board[choice] = 'X'\n",
    "    elif player_two == True:\n",
    "        board[choice] = 'O'     \n",
    "            "
   ]
  },
  {
   "cell_type": "markdown",
   "metadata": {},
   "source": [
    "Function to switch the player."
   ]
  },
  {
   "cell_type": "code",
   "execution_count": 60,
   "metadata": {},
   "outputs": [],
   "source": [
    "def switch_player(player):\n",
    "    \n",
    "    if player == True:\n",
    "        return False \n",
    "    else:\n",
    "        return True"
   ]
  },
  {
   "cell_type": "markdown",
   "metadata": {},
   "source": [
    "Function to check if player one won, it returns True if player One matches a line."
   ]
  },
  {
   "cell_type": "code",
   "execution_count": 61,
   "metadata": {},
   "outputs": [],
   "source": [
    "def check_player_one_win(board):\n",
    "\n",
    "    \n",
    "    if board['1']== board['2'] == board['3'] == 'X':\n",
    "        print('Congratulations player one!')\n",
    "        return True\n",
    "    elif board['4']== board['5'] == board['6'] == 'X':\n",
    "        print('Congratulations player one!')\n",
    "        return True\n",
    "    elif board['7']== board['8'] == board['9'] == 'X':\n",
    "        print('Congratulations player one!')\n",
    "        return True\n",
    "    elif board['7']== board['4'] == board['3'] == 'X':\n",
    "        print('Congratulations player one!')\n",
    "        return True\n",
    "    elif board['8']== board['5'] == board['2'] == 'X':\n",
    "        print('Congratulations player one!')\n",
    "        return True\n",
    "    elif board['9']== board['6'] == board['1'] == 'X':\n",
    "        print('Congratulations player one!')\n",
    "        return True\n",
    "    elif board['7']== board['5'] == board['1'] == 'X':\n",
    "        print('Congratulations player one!')\n",
    "        return True\n",
    "    elif board['9']== board['5'] == board['3'] == 'X':\n",
    "        print('Congratulations player one!')\n",
    "        return True\n",
    "    else:\n",
    "        return False"
   ]
  },
  {
   "cell_type": "markdown",
   "metadata": {},
   "source": [
    "Function to check if player two won, it returns True if player two matches a line."
   ]
  },
  {
   "cell_type": "code",
   "execution_count": 62,
   "metadata": {},
   "outputs": [],
   "source": [
    "def check_player_two_win(board):\n",
    "\n",
    "    \n",
    "    if board['1']== board['2'] == board['3'] == 'O':\n",
    "        print('Congratulations player two!')\n",
    "        return True\n",
    "    elif board['4']== board['5'] == board['6'] == 'O':\n",
    "        print('Congratulations player two!')\n",
    "        return True\n",
    "    elif board['7']== board['8'] == board['9'] == 'O':\n",
    "        print('Congratulations player two!')\n",
    "        return Truetwo\n",
    "    elif board['7']== board['4'] == board['3'] == 'O':\n",
    "        print('Congratulations player two!')\n",
    "        return True\n",
    "    elif board['8']== board['5'] == board['2'] == 'O':\n",
    "        print('Congratulations player two!')\n",
    "        return True\n",
    "    elif board['9']== board['6'] == board['1'] == 'O':\n",
    "        print('Congratulations player two!')\n",
    "        return True\n",
    "    elif board['7']== board['5'] == board['1'] == 'O':\n",
    "        print('Congratulations player two!')\n",
    "        return True\n",
    "    elif board['9']== board['5'] == board['3'] == 'O':\n",
    "        print('Congratulations player two!')\n",
    "        return True\n",
    "    else:\n",
    "        return False"
   ]
  },
  {
   "cell_type": "markdown",
   "metadata": {},
   "source": [
    "Function to check if it was a tie or not. There are only 9 plays, so if the counter gets to 0, the game finishes in a tie."
   ]
  },
  {
   "cell_type": "code",
   "execution_count": 63,
   "metadata": {},
   "outputs": [],
   "source": [
    "def check_tie(counter):\n",
    "    if counter == 0:\n",
    "        print(\"It was a tie! Try again.\")\n",
    "        return True\n",
    "    else:\n",
    "        return False"
   ]
  },
  {
   "cell_type": "markdown",
   "metadata": {},
   "source": [
    "Function that asks the player if they want to play again, if they do, restart the game. If not quits the program."
   ]
  },
  {
   "cell_type": "code",
   "execution_count": 75,
   "metadata": {},
   "outputs": [],
   "source": [
    "def play_again():\n",
    "    \n",
    "    print(\" \")\n",
    "    print(\"Would you like to play again?\")\n",
    "    choice = ''\n",
    "    \n",
    "    while choice != 'Y' or choice != 'N': \n",
    "    \n",
    "        choice = input(\"Please enter Y or N: \")\n",
    "        \n",
    "        if choice.upper() == 'Y':\n",
    "            game()\n",
    "            break\n",
    "        elif choice.upper() == 'N':\n",
    "            goodbye()\n",
    "            break\n",
    "        else:\n",
    "            print(\"Please enter Y or N: \")\n",
    "    "
   ]
  },
  {
   "cell_type": "markdown",
   "metadata": {},
   "source": [
    "# The game:\n",
    "\n",
    "So here it is where all functions come together and become one thing.\n",
    "\n",
    "- First we set all the variables to their desired values.\n",
    "- The program welcomes the player.\n",
    "- Then it creates a loop in where it won't stop until player one wins, or two or it's a tie.\n",
    "- So then there is another loop to count the amount of turns that the game has. If it gets to 0 it is a tie.\n",
    "- It first displays the boards and decides whose turn is it then gets the player one input and appends this choice to a list where it holds all input choices.\n",
    "- If the choice passes validation it updates the boards with the player's input (X for 1 and O for 2).\n",
    "- It then switch players.\n",
    "- After that it checks if any of the players won the match, if they didn't  it then takes one from the counter and checks if it was a tie(only if both players haven't won). If it was a tie, or any of the players won it breaks the loop.\n",
    "- It calls the play_again function to ask the players if they want to play again or quit the game."
   ]
  },
  {
   "cell_type": "code",
   "execution_count": 76,
   "metadata": {},
   "outputs": [],
   "source": [
    "def game():\n",
    "    \n",
    "    board = {'7':' ','8':' ','9':' ',\n",
    "         '4': ' ','5':' ','6': ' ',\n",
    "         '3': ' ','2':' ','1':' '}\n",
    "    \n",
    "    choice = 'NO CHOICE'\n",
    "    player_one = True\n",
    "    player_two = False\n",
    "    occupied = [0]\n",
    "    end1 = False\n",
    "    end2 = False\n",
    "    counter = 9\n",
    "    tie = False\n",
    "    \n",
    "    \n",
    "    while end1 == False and end2 == False and tie == False:\n",
    "\n",
    "        while counter > 0:\n",
    "    \n",
    "            display_board(board)\n",
    "            player_turn(player_one)\n",
    "            choice = player_choice(choice,occupied)\n",
    "            occupied.append(choice)\n",
    "    \n",
    "            update_board(choice,player_one,player_two,board)\n",
    "\n",
    "            player_one = switch_player(player_one)\n",
    "            player_two = switch_player(player_two)\n",
    "        \n",
    "            end1 = check_player_one_win(board)\n",
    "            end2 = check_player_two_win(board)\n",
    "            counter -= 1\n",
    "        \n",
    "            if end1 == False and end2 == False:\n",
    "                tie = check_tie(counter)\n",
    "        \n",
    "            if tie == True or end1 ==True or end2 == True:\n",
    "                break\n",
    "    \n",
    "\n",
    "    display_board(board)\n",
    "    play_again()"
   ]
  },
  {
   "cell_type": "markdown",
   "metadata": {},
   "source": [
    "Here it is where we can run the game, it calls the welcome function to explain the rules and how to play, then it starts the game."
   ]
  },
  {
   "cell_type": "code",
   "execution_count": 77,
   "metadata": {},
   "outputs": [
    {
     "name": "stdout",
     "output_type": "stream",
     "text": [
      "Hi, this is my tic tac toe game!\n",
      " \n",
      "Rules: \n",
      "1- Player one = X\n",
      "2- Player two = O\n",
      "3- If any of the player complete a straight line they win.\n",
      "4- If none of the players manage to do a straight line, it ends in a tie.\n",
      "5- You can not choose the same spot twice.\n",
      " \n",
      "How to play: \n",
      "To select where you want to place your marker, select the corresponding number.\n",
      " \n",
      "7     8     9\n",
      "4     5     6\n",
      "3     2     1\n",
      " \n",
      "For example, if you want to choose the top right, you have to type 9. And the board will look something like this: \n",
      " \n",
      " | |X\n",
      "-+-+-\n",
      " | | \n",
      "-+-+-\n",
      " | | \n",
      " \n",
      "Let's play!\n",
      " \n",
      " | | \n",
      "-+-+-\n",
      " | | \n",
      "-+-+-\n",
      " | | \n",
      " \n",
      "Player 1: Your Turn.\n",
      "Please enter a number (1,9): 1\n",
      " \n",
      " | | \n",
      "-+-+-\n",
      " | | \n",
      "-+-+-\n",
      " | |X\n",
      " \n",
      "Player 2: Your Turn.\n",
      "Please enter a number (1,9): 2\n",
      " \n",
      " | | \n",
      "-+-+-\n",
      " | | \n",
      "-+-+-\n",
      " |O|X\n",
      " \n",
      "Player 1: Your Turn.\n",
      "Please enter a number (1,9): 3\n",
      " \n",
      " | | \n",
      "-+-+-\n",
      " | | \n",
      "-+-+-\n",
      "X|O|X\n",
      " \n",
      "Player 2: Your Turn.\n",
      "Please enter a number (1,9): 4\n",
      " \n",
      " | | \n",
      "-+-+-\n",
      "O| | \n",
      "-+-+-\n",
      "X|O|X\n",
      " \n",
      "Player 1: Your Turn.\n",
      "Please enter a number (1,9): 5\n",
      " \n",
      " | | \n",
      "-+-+-\n",
      "O|X| \n",
      "-+-+-\n",
      "X|O|X\n",
      " \n",
      "Player 2: Your Turn.\n",
      "Please enter a number (1,9): 6\n",
      " \n",
      " | | \n",
      "-+-+-\n",
      "O|X|O\n",
      "-+-+-\n",
      "X|O|X\n",
      " \n",
      "Player 1: Your Turn.\n",
      "Please enter a number (1,9): 7\n",
      "Congratulations player one!\n",
      " \n",
      "X| | \n",
      "-+-+-\n",
      "O|X|O\n",
      "-+-+-\n",
      "X|O|X\n",
      " \n",
      " \n",
      "Would you like to play again?\n",
      "Please enter Y or N: 8\n",
      "Please enter Y or N: \n",
      "Please enter Y or N: p\n",
      "Please enter Y or N: \n",
      "Please enter Y or N: ;\n",
      "Please enter Y or N: \n",
      "Please enter Y or N: y\n",
      " \n",
      " | | \n",
      "-+-+-\n",
      " | | \n",
      "-+-+-\n",
      " | | \n",
      " \n",
      "Player 1: Your Turn.\n",
      "Please enter a number (1,9): 1\n",
      " \n",
      " | | \n",
      "-+-+-\n",
      " | | \n",
      "-+-+-\n",
      " | |X\n",
      " \n",
      "Player 2: Your Turn.\n",
      "Please enter a number (1,9): 2\n",
      " \n",
      " | | \n",
      "-+-+-\n",
      " | | \n",
      "-+-+-\n",
      " |O|X\n",
      " \n",
      "Player 1: Your Turn.\n",
      "Please enter a number (1,9): 3\n",
      " \n",
      " | | \n",
      "-+-+-\n",
      " | | \n",
      "-+-+-\n",
      "X|O|X\n",
      " \n",
      "Player 2: Your Turn.\n",
      "Please enter a number (1,9): 4\n",
      " \n",
      " | | \n",
      "-+-+-\n",
      "O| | \n",
      "-+-+-\n",
      "X|O|X\n",
      " \n",
      "Player 1: Your Turn.\n",
      "Please enter a number (1,9): 5\n",
      " \n",
      " | | \n",
      "-+-+-\n",
      "O|X| \n",
      "-+-+-\n",
      "X|O|X\n",
      " \n",
      "Player 2: Your Turn.\n",
      "Please enter a number (1,9): 6\n",
      " \n",
      " | | \n",
      "-+-+-\n",
      "O|X|O\n",
      "-+-+-\n",
      "X|O|X\n",
      " \n",
      "Player 1: Your Turn.\n",
      "Please enter a number (1,9): 7\n",
      "Congratulations player one!\n",
      " \n",
      "X| | \n",
      "-+-+-\n",
      "O|X|O\n",
      "-+-+-\n",
      "X|O|X\n",
      " \n",
      " \n",
      "Would you like to play again?\n",
      "Please enter Y or N: n\n",
      "Thanks for playing!\n"
     ]
    }
   ],
   "source": [
    "welcome()    \n",
    "game()     "
   ]
  },
  {
   "cell_type": "markdown",
   "metadata": {},
   "source": []
  },
  {
   "cell_type": "code",
   "execution_count": null,
   "metadata": {},
   "outputs": [],
   "source": []
  }
 ],
 "metadata": {
  "kernelspec": {
   "display_name": "Python 3",
   "language": "python",
   "name": "python3"
  },
  "language_info": {
   "codemirror_mode": {
    "name": "ipython",
    "version": 3
   },
   "file_extension": ".py",
   "mimetype": "text/x-python",
   "name": "python",
   "nbconvert_exporter": "python",
   "pygments_lexer": "ipython3",
   "version": "3.8.3"
  }
 },
 "nbformat": 4,
 "nbformat_minor": 4
}
